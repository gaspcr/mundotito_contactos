{
 "cells": [
  {
   "cell_type": "code",
   "execution_count": 2,
   "metadata": {},
   "outputs": [],
   "source": [
    "import pandas as pd"
   ]
  },
  {
   "cell_type": "code",
   "execution_count": 48,
   "metadata": {},
   "outputs": [],
   "source": [
    "contactos = pd.read_csv('contactos.csv')"
   ]
  },
  {
   "cell_type": "code",
   "execution_count": 49,
   "metadata": {},
   "outputs": [],
   "source": [
    "ruta = pd.read_excel(\"RUTA DIARIA HASTA 08-11-22.xlsx\", sheet_name=None)\n",
    "llaves = list(ruta.keys())"
   ]
  },
  {
   "cell_type": "code",
   "execution_count": 50,
   "metadata": {},
   "outputs": [],
   "source": [
    "# Quitar de llaves cualquier elemento que no tenga un día de la semana en su nombre\n",
    "llaves = [x for x in llaves if \"LUNES\" in x or \"MARTES\" in x or \"MIÉRCOLES\" in x or \"JUEVES\" in x or \"VIERNES\" in x or \"SÁBADO\" in x or \"DOMINGO\" in x]"
   ]
  },
  {
   "cell_type": "code",
   "execution_count": 51,
   "metadata": {},
   "outputs": [],
   "source": [
    "for llave in llaves:\n",
    "    ruta[llave].to_csv(f\"carpeta1/{llave}.csv\", index=False)"
   ]
  },
  {
   "cell_type": "code",
   "execution_count": 52,
   "metadata": {},
   "outputs": [],
   "source": [
    "dicts = {}\n",
    "# Abrir archivos 'file_n.csv', donde n va desde 1 a 7\n",
    "# El header es la primera fila\n",
    "for i in range(1, 8):\n",
    "    file = pd.read_csv(f\"carpeta1/file{i}.csv\", header=0)\n",
    "    # Extraer los datos de la columna \"NOMBRE\"\n",
    "    nombres = file[\"NOMBRE\"]\n",
    "    # Extraer los datos de la columna \"FONO\"\n",
    "    telefonos = file[\"FONO\"]\n",
    "    # Guardar los datos en dicts\n",
    "    dicts[i] = dict(zip(nombres, telefonos))\n"
   ]
  },
  {
   "cell_type": "code",
   "execution_count": 53,
   "metadata": {},
   "outputs": [],
   "source": [
    "# Utilizar dicts para guardar los datos en contactos.csv\n",
    "for i in range(1, 8):\n",
    "    for nombre, telefono in dicts[i].items():\n",
    "        contactos.loc[len(contactos)] = [nombre, telefono]"
   ]
  },
  {
   "cell_type": "code",
   "execution_count": 54,
   "metadata": {},
   "outputs": [],
   "source": [
    "# Quitar las filas vacías\n",
    "contactos.dropna(inplace=True)"
   ]
  },
  {
   "cell_type": "code",
   "execution_count": 67,
   "metadata": {},
   "outputs": [],
   "source": [
    "# Si el numero de telefono es un \"NN\", quitar la fila\n",
    "contactos = contactos[contactos[\"Phone\"] != \"NN\"]"
   ]
  },
  {
   "cell_type": "code",
   "execution_count": 58,
   "metadata": {},
   "outputs": [],
   "source": [
    "# En contactos, si el numero de telefono es igual a 0, eliminar la fila\n",
    "contactos = contactos[contactos[\"Phone\"] != 0]\n",
    "# Convertir los numeros de telefono a string\n",
    "contactos[\"Phone\"] = contactos[\"Phone\"].astype(str)"
   ]
  },
  {
   "cell_type": "code",
   "execution_count": 59,
   "metadata": {},
   "outputs": [],
   "source": [
    "# Si el numero comienza con 56, eliminar el 56\n",
    "contactos[\"Phone\"] = contactos[\"Phone\"].apply(lambda x: x[2:] if x.startswith(\"56\") else x)"
   ]
  },
  {
   "cell_type": "code",
   "execution_count": 62,
   "metadata": {},
   "outputs": [],
   "source": [
    "# Remover el .0 de los numeros de telefono\n",
    "contactos[\"Phone\"] = contactos[\"Phone\"].apply(lambda x: x[:-2] if x.endswith(\".0\") else x)"
   ]
  },
  {
   "cell_type": "code",
   "execution_count": 64,
   "metadata": {},
   "outputs": [],
   "source": [
    "# Reemplaza el \"9 \" por \"9\" en los numeros de telefono\n",
    "contactos[\"Phone\"] = contactos[\"Phone\"].apply(lambda x: x.replace(\"9 \", \"9\"))"
   ]
  },
  {
   "cell_type": "code",
   "execution_count": 78,
   "metadata": {},
   "outputs": [
    {
     "name": "stderr",
     "output_type": "stream",
     "text": [
      "C:\\Users\\rodri\\AppData\\Local\\Temp\\ipykernel_15584\\1563418330.py:1: SettingWithCopyWarning: \n",
      "A value is trying to be set on a copy of a slice from a DataFrame.\n",
      "Try using .loc[row_indexer,col_indexer] = value instead\n",
      "\n",
      "See the caveats in the documentation: https://pandas.pydata.org/pandas-docs/stable/user_guide/indexing.html#returning-a-view-versus-a-copy\n",
      "  contactos[\"Phone\"] = contactos[\"Phone\"].astype(str)\n"
     ]
    }
   ],
   "source": [
    "contactos[\"Phone\"] = contactos[\"Phone\"].astype(str)"
   ]
  },
  {
   "cell_type": "code",
   "execution_count": 71,
   "metadata": {},
   "outputs": [
    {
     "name": "stderr",
     "output_type": "stream",
     "text": [
      "C:\\Users\\rodri\\AppData\\Local\\Temp\\ipykernel_15584\\1752719425.py:2: SettingWithCopyWarning: \n",
      "A value is trying to be set on a copy of a slice from a DataFrame.\n",
      "Try using .loc[row_indexer,col_indexer] = value instead\n",
      "\n",
      "See the caveats in the documentation: https://pandas.pydata.org/pandas-docs/stable/user_guide/indexing.html#returning-a-view-versus-a-copy\n",
      "  contactos[\"Phone\"] = contactos[\"Phone\"].apply(lambda x: \"9\" + x if len(x) == 8 else x)\n"
     ]
    }
   ],
   "source": [
    "# Si el numero es de 8 digitos, agregar un 9 al principio\n",
    "contactos[\"Phone\"] = contactos[\"Phone\"].apply(lambda x: \"9\" + x if len(x) == 8 else x)"
   ]
  },
  {
   "cell_type": "code",
   "execution_count": 92,
   "metadata": {},
   "outputs": [
    {
     "name": "stderr",
     "output_type": "stream",
     "text": [
      "C:\\Users\\rodri\\AppData\\Local\\Temp\\ipykernel_15584\\1193585792.py:2: SettingWithCopyWarning: \n",
      "A value is trying to be set on a copy of a slice from a DataFrame.\n",
      "Try using .loc[row_indexer,col_indexer] = value instead\n",
      "\n",
      "See the caveats in the documentation: https://pandas.pydata.org/pandas-docs/stable/user_guide/indexing.html#returning-a-view-versus-a-copy\n",
      "  contactos[\"Phone\"] = contactos[\"Phone\"].apply(lambda x: x[2:] if x.startswith(\"56\") else x)\n"
     ]
    }
   ],
   "source": [
    "# Quitar 56 de los numeros de telefono\n",
    "contactos[\"Phone\"] = contactos[\"Phone\"].apply(lambda x: x[2:] if x.startswith(\"56\") else x)"
   ]
  },
  {
   "cell_type": "code",
   "execution_count": 97,
   "metadata": {},
   "outputs": [
    {
     "name": "stderr",
     "output_type": "stream",
     "text": [
      "C:\\Users\\rodri\\AppData\\Local\\Temp\\ipykernel_15584\\1814843918.py:2: SettingWithCopyWarning: \n",
      "A value is trying to be set on a copy of a slice from a DataFrame.\n",
      "Try using .loc[row_indexer,col_indexer] = value instead\n",
      "\n",
      "See the caveats in the documentation: https://pandas.pydata.org/pandas-docs/stable/user_guide/indexing.html#returning-a-view-versus-a-copy\n",
      "  contactos[\"Phone\"] = contactos[\"Phone\"].apply(lambda x: \"56\" + x if len(x) == 9 else x)\n"
     ]
    }
   ],
   "source": [
    "# Colocar 56 al principio de los numeros de telefono\n",
    "contactos[\"Phone\"] = contactos[\"Phone\"].apply(lambda x: \"56\" + x if len(x) == 9 else x)"
   ]
  },
  {
   "cell_type": "code",
   "execution_count": 81,
   "metadata": {},
   "outputs": [
    {
     "name": "stderr",
     "output_type": "stream",
     "text": [
      "C:\\Users\\rodri\\AppData\\Local\\Temp\\ipykernel_15584\\3535339851.py:2: SettingWithCopyWarning: \n",
      "A value is trying to be set on a copy of a slice from a DataFrame\n",
      "\n",
      "See the caveats in the documentation: https://pandas.pydata.org/pandas-docs/stable/user_guide/indexing.html#returning-a-view-versus-a-copy\n",
      "  contactos.drop_duplicates(inplace=True)\n"
     ]
    }
   ],
   "source": [
    "# Eliminar filas duplicadas\n",
    "contactos.drop_duplicates(inplace=True)"
   ]
  },
  {
   "cell_type": "code",
   "execution_count": 98,
   "metadata": {},
   "outputs": [],
   "source": [
    "# Guardar los datos en contactos.csv\n",
    "contactos.to_csv(\"contactos.csv\", index=False)"
   ]
  },
  {
   "cell_type": "code",
   "execution_count": 102,
   "metadata": {},
   "outputs": [
    {
     "name": "stderr",
     "output_type": "stream",
     "text": [
      "C:\\Users\\rodri\\AppData\\Local\\Temp\\ipykernel_15584\\3532186055.py:1: SettingWithCopyWarning: \n",
      "A value is trying to be set on a copy of a slice from a DataFrame.\n",
      "Try using .loc[row_indexer,col_indexer] = value instead\n",
      "\n",
      "See the caveats in the documentation: https://pandas.pydata.org/pandas-docs/stable/user_guide/indexing.html#returning-a-view-versus-a-copy\n",
      "  contactos[\"Country Code\"] = \"CL\"\n",
      "C:\\Users\\rodri\\AppData\\Local\\Temp\\ipykernel_15584\\3532186055.py:2: SettingWithCopyWarning: \n",
      "A value is trying to be set on a copy of a slice from a DataFrame.\n",
      "Try using .loc[row_indexer,col_indexer] = value instead\n",
      "\n",
      "See the caveats in the documentation: https://pandas.pydata.org/pandas-docs/stable/user_guide/indexing.html#returning-a-view-versus-a-copy\n",
      "  contactos[\"Last Name\"] = \"1\"\n",
      "C:\\Users\\rodri\\AppData\\Local\\Temp\\ipykernel_15584\\3532186055.py:3: SettingWithCopyWarning: \n",
      "A value is trying to be set on a copy of a slice from a DataFrame.\n",
      "Try using .loc[row_indexer,col_indexer] = value instead\n",
      "\n",
      "See the caveats in the documentation: https://pandas.pydata.org/pandas-docs/stable/user_guide/indexing.html#returning-a-view-versus-a-copy\n",
      "  contactos[\"Email\"] = \"mail@example.com\"\n",
      "C:\\Users\\rodri\\AppData\\Local\\Temp\\ipykernel_15584\\3532186055.py:4: SettingWithCopyWarning: \n",
      "A value is trying to be set on a copy of a slice from a DataFrame.\n",
      "Try using .loc[row_indexer,col_indexer] = value instead\n",
      "\n",
      "See the caveats in the documentation: https://pandas.pydata.org/pandas-docs/stable/user_guide/indexing.html#returning-a-view-versus-a-copy\n",
      "  contactos[\"Label\"] = \"bfd-tanda-1\"\n",
      "C:\\Users\\rodri\\AppData\\Local\\Temp\\ipykernel_15584\\3532186055.py:5: SettingWithCopyWarning: \n",
      "A value is trying to be set on a copy of a slice from a DataFrame.\n",
      "Try using .loc[row_indexer,col_indexer] = value instead\n",
      "\n",
      "See the caveats in the documentation: https://pandas.pydata.org/pandas-docs/stable/user_guide/indexing.html#returning-a-view-versus-a-copy\n",
      "  contactos[\"Notes\"] = \"Bfd contact\"\n"
     ]
    }
   ],
   "source": [
    "contactos[\"Country Code\"] = \"CL\"\n",
    "contactos[\"Last Name\"] = \"1\"\n",
    "contactos[\"Email\"] = \"mail@example.com\"\n",
    "contactos[\"Label\"] = \"bfd-tanda-1\"\n",
    "contactos[\"Notes\"] = \"Bfd contact\""
   ]
  },
  {
   "cell_type": "code",
   "execution_count": 103,
   "metadata": {},
   "outputs": [],
   "source": [
    "# Ordenar columnas en el orden First Name, Last Name, Email, Country Code, Phone, Label, Notes\n",
    "contactos_1 = contactos[[\"First Name\", \"Last Name\", \"Email\", \"Country Code\", \"Phone\", \"Label\", \"Notes\"]]"
   ]
  },
  {
   "cell_type": "code",
   "execution_count": 104,
   "metadata": {},
   "outputs": [],
   "source": [
    "# Guardar los datos en contactos_1.csv\n",
    "contactos_1.to_csv(\"contactos_1.csv\", index=False)"
   ]
  }
 ],
 "metadata": {
  "kernelspec": {
   "display_name": "Python 3.10.6 64-bit",
   "language": "python",
   "name": "python3"
  },
  "language_info": {
   "codemirror_mode": {
    "name": "ipython",
    "version": 3
   },
   "file_extension": ".py",
   "mimetype": "text/x-python",
   "name": "python",
   "nbconvert_exporter": "python",
   "pygments_lexer": "ipython3",
   "version": "3.10.6"
  },
  "orig_nbformat": 4,
  "vscode": {
   "interpreter": {
    "hash": "6e3977c52f5249dbc2a33b897faad1e0916758085298811edbd14ed6ad707d81"
   }
  }
 },
 "nbformat": 4,
 "nbformat_minor": 2
}
